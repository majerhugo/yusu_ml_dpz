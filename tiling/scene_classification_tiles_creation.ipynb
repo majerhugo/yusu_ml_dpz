{
 "cells": [
  {
   "cell_type": "markdown",
   "id": "78d0d2f1-77ff-4ba1-928e-7269ab7a0c4a",
   "metadata": {},
   "source": [
    "##### Reference raster probably must be the same size (width / height) as the imagery, resolution also"
   ]
  },
  {
   "cell_type": "code",
   "execution_count": 2,
   "id": "59757774-c2b9-4acc-820a-17ddc941cfb3",
   "metadata": {},
   "outputs": [],
   "source": [
    "import os\n",
    "import numpy as np\n",
    "import rasterio\n",
    "from rasterio.windows import Window\n",
    "from rasterio.transform import Affine\n",
    "\n",
    "def check_compatibility(image_path, patch_size):\n",
    "    \"\"\"\n",
    "    Check if the image dimensions are divisible by the patch size.\n",
    "    \n",
    "    Args:\n",
    "        image_path (str): Path to the input image.\n",
    "        patch_size (int): Size of the patches.\n",
    "    \n",
    "    Returns:\n",
    "        compatible (bool): True if the image dimensions are compatible with the patch size.\n",
    "    \"\"\"\n",
    "    with rasterio.open(image_path) as src:\n",
    "        width, height = src.width, src.height\n",
    "        if width % patch_size == 0 and height % patch_size == 0:\n",
    "            return True\n",
    "        else:\n",
    "            return False\n",
    "\n",
    "\n",
    "def generate_patches(image_path, patch_size, stride, output_dir, offset_left=0, offset_top=0, as_geotif=True):\n",
    "    \"\"\"\n",
    "    Extract patches from a Sentinel-2 image and either save them as GeoTIFF files or return as a NumPy array.\n",
    "    \n",
    "    Args:\n",
    "        image_path (str): Path to the input Sentinel-2 image.\n",
    "        patch_size (int): Size of the square patches (in pixels).\n",
    "        stride (int): Step size for sliding the window.\n",
    "        output_dir (str): Directory to save the extracted patches (if as_geotif is True).\n",
    "        offset_left (int): Number of pixels to ignore from the left edge of the image.\n",
    "        offset_top (int): Number of pixels to ignore from the top edge of the image.\n",
    "        as_geotif (bool): If True, patches are saved as GeoTIFF files; if False, returned as a NumPy array.\n",
    "    \n",
    "    Returns:\n",
    "        patches_array (np.ndarray): Numpy array of shape (num_tiles, bands, patch_size, patch_size) if as_geotif is False.\n",
    "    \"\"\"\n",
    "    if as_geotif:\n",
    "        os.makedirs(output_dir, exist_ok=True)\n",
    "\n",
    "    # Open the image and get properties\n",
    "    with rasterio.open(image_path) as src:\n",
    "        width, height = src.width, src.height\n",
    "        transform = src.transform\n",
    "        crs = src.crs\n",
    "        dtype = src.dtypes[0]\n",
    "        num_bands = src.count\n",
    "\n",
    "        # Adjust width, height, and transform based on offsets\n",
    "        if offset_left > 0:\n",
    "            width -= offset_left\n",
    "            transform = transform * Affine.translation(offset_left, 0)\n",
    "        if offset_top > 0:\n",
    "            height -= offset_top\n",
    "            transform = transform * Affine.translation(0, offset_top)\n",
    "\n",
    "        # Check if the adjusted image size is compatible with the patch size\n",
    "        if check_compatibility(image_path, patch_size):\n",
    "            # If compatible, no cropping necessary\n",
    "            cropped_image = src.read()\n",
    "            cropped_transform = transform\n",
    "            cropped_width, cropped_height = width, height\n",
    "        else:\n",
    "            # If not compatible, crop the image to make it tileable\n",
    "            tileable_width = (width - patch_size) // stride * stride + patch_size\n",
    "            tileable_height = (height - patch_size) // stride * stride + patch_size\n",
    "            crop_window = Window(offset_left, offset_top, tileable_width, tileable_height)\n",
    "            cropped_transform = src.window_transform(crop_window)\n",
    "            cropped_image = src.read(window=crop_window)\n",
    "            cropped_width, cropped_height = tileable_width, tileable_height\n",
    "\n",
    "    # Initialize a list to store patches if as_geotif is False\n",
    "    patches_list = [] if not as_geotif else None\n",
    "\n",
    "    # Loop over rows and columns to extract patches\n",
    "    patch_counter = 0\n",
    "    for row in range(0, cropped_height - patch_size + 1, stride):\n",
    "        for col in range(0, cropped_width - patch_size + 1, stride):\n",
    "            # Compute the translation in pixel space (scaled by pixel size)\n",
    "            x_offset = col * cropped_transform.a  # Horizontal offset in geospatial units\n",
    "            y_offset = row * cropped_transform.e  # Vertical offset in geospatial units\n",
    "            patch_transform = cropped_transform * Affine.translation(x_offset / cropped_transform.a, y_offset / cropped_transform.e)\n",
    "\n",
    "            # Extract the patch data\n",
    "            patch_data = cropped_image[:, row:row + patch_size, col:col + patch_size]\n",
    "\n",
    "            if as_geotif:\n",
    "                # Save the patch as a GeoTIFF\n",
    "                patch_filename = f\"patch_{str(patch_counter).zfill(8)}.tif\"\n",
    "                patch_path = os.path.join(output_dir, patch_filename)\n",
    "                with rasterio.open(\n",
    "                    patch_path,\n",
    "                    'w',\n",
    "                    driver='GTiff',\n",
    "                    height=patch_size,\n",
    "                    width=patch_size,\n",
    "                    count=num_bands,\n",
    "                    dtype=dtype,\n",
    "                    crs=crs,\n",
    "                    transform=patch_transform,\n",
    "                ) as dst:\n",
    "                    dst.write(patch_data)\n",
    "            else:\n",
    "                # Append the patch data to the list\n",
    "                patches_list.append(patch_data)\n",
    "\n",
    "            patch_counter += 1\n",
    "\n",
    "    # If as_geotif is False, convert the patches list to a NumPy array\n",
    "    if not as_geotif:\n",
    "        patches_array = np.stack(patches_list, axis=0)\n",
    "        return patches_array\n",
    "\n",
    "    return None"
   ]
  },
  {
   "cell_type": "markdown",
   "id": "cfd709cf-eb91-4433-be48-b61483abde79",
   "metadata": {},
   "source": [
    "#### Tile Imagery"
   ]
  },
  {
   "cell_type": "code",
   "execution_count": 3,
   "id": "1a8ff7d3-0aa9-40b9-ae8e-0be3494dfce9",
   "metadata": {},
   "outputs": [],
   "source": [
    "# SETTINGS\n",
    "image_path = r\"C:\\SKOLA\\02_DOKTORAT\\ml_dpz\\lcz\\berlin_data\\composite_subset.tif\"\n",
    "patch_size = 10\n",
    "stride = 10\n",
    "offset_left = 2\n",
    "offset_top = 2\n",
    "output_dir= None\n",
    "as_geotif = False"
   ]
  },
  {
   "cell_type": "code",
   "execution_count": 4,
   "id": "f56d9267-f9a7-4986-8da6-1581d060dc0e",
   "metadata": {},
   "outputs": [
    {
     "name": "stdout",
     "output_type": "stream",
     "text": [
      "NumPy array shape: (428238, 10, 10, 10)\n"
     ]
    }
   ],
   "source": [
    "features_array = generate_patches(\n",
    "    image_path=image_path,\n",
    "    patch_size = patch_size,\n",
    "    stride = stride,\n",
    "    offset_left = offset_left,\n",
    "    offset_top = offset_top,\n",
    "    output_dir=output_dir,\n",
    "    as_geotif=as_geotif\n",
    ")\n",
    "\n",
    "print(f\"NumPy array shape: {features_array.shape}\")"
   ]
  },
  {
   "cell_type": "markdown",
   "id": "602d4ffd-83dd-4e1f-8cf1-1a09500c9c8e",
   "metadata": {},
   "source": [
    "#### Tile reference raster"
   ]
  },
  {
   "cell_type": "code",
   "execution_count": 5,
   "id": "cd654965-449c-4e51-8af3-dd262a988ea5",
   "metadata": {},
   "outputs": [],
   "source": [
    "# SETTINGS\n",
    "image_path = r\"C:\\SKOLA\\02_DOKTORAT\\ml_dpz\\lcz\\berlin_data\\berlin_lcz_GT_fullres.tif\"\n",
    "patch_size = 10\n",
    "stride = 10\n",
    "offset_left = 2\n",
    "offset_top = 2\n",
    "output_dir= None\n",
    "as_geotif = False"
   ]
  },
  {
   "cell_type": "code",
   "execution_count": 6,
   "id": "ea6ee17f-d97c-43e6-b130-a9e44710cdb6",
   "metadata": {},
   "outputs": [
    {
     "name": "stdout",
     "output_type": "stream",
     "text": [
      "NumPy array shape: (428238, 1, 10, 10)\n"
     ]
    }
   ],
   "source": [
    "labels_array = generate_patches(\n",
    "    image_path=image_path,\n",
    "    patch_size = patch_size,\n",
    "    stride = stride,\n",
    "    offset_left = offset_left,\n",
    "    offset_top = offset_top,\n",
    "    output_dir=output_dir,\n",
    "    as_geotif=as_geotif\n",
    ")\n",
    "\n",
    "print(f\"NumPy array shape: {labels_array.shape}\")"
   ]
  },
  {
   "cell_type": "markdown",
   "id": "35c6fbd8-c1cb-49d0-8485-9f47269a0c0a",
   "metadata": {},
   "source": [
    "#### Central pixel labels extraction"
   ]
  },
  {
   "cell_type": "code",
   "execution_count": 13,
   "id": "c1f67b74-276f-4a45-aee6-addba3be8837",
   "metadata": {},
   "outputs": [
    {
     "name": "stdout",
     "output_type": "stream",
     "text": [
      "(428238,)\n",
      "[ 0  2  4  5  6  8  9 11 12 13 14 16 17]\n"
     ]
    }
   ],
   "source": [
    "# for each reference tile get the classvalue of the central pixel and create vector of labels\n",
    "labels_list=[]\n",
    "\n",
    "for i in range(0, features_array.shape[0]):\n",
    "    central_pixel_class = int(labels_array[i, :, int(np.ceil(patch_size/2)), int(np.ceil(patch_size/2))][0])\n",
    "    labels_list.append(central_pixel_class)\n",
    "\n",
    "central_pixel_label_array = np.array(labels_list)\n",
    "print(central_pixel_label_array.shape)\n",
    "print(np.unique(labels_array))"
   ]
  },
  {
   "cell_type": "markdown",
   "id": "c24df199-ad40-47a9-8d0c-7fddf8da37f7",
   "metadata": {},
   "source": [
    "#### Filter tiles with existing label"
   ]
  },
  {
   "cell_type": "code",
   "execution_count": 14,
   "id": "bc9b6d83-2c6c-4dfd-ace5-e446033855ce",
   "metadata": {},
   "outputs": [],
   "source": [
    "# SETTING - oznacenie backgroundu, alebo classe 0 alebo nodata...\n",
    "no_class_value = 0"
   ]
  },
  {
   "cell_type": "code",
   "execution_count": 15,
   "id": "41610611-13be-491b-9258-4e5f3f9e6670",
   "metadata": {},
   "outputs": [
    {
     "name": "stdout",
     "output_type": "stream",
     "text": [
      "Filtered input_features shape: (24537, 10, 10, 10)\n",
      "Filtered labels_array shape: (24537,)\n"
     ]
    }
   ],
   "source": [
    "filtered_input_features = features_array[central_pixel_label_array!=no_class_value]\n",
    "filtered_labels_array = central_pixel_label_array[central_pixel_label_array!=no_class_value]\n",
    "\n",
    "print(f\"Filtered input_features shape: {filtered_input_features.shape}\")\n",
    "print(f\"Filtered labels_array shape: {filtered_labels_array.shape}\")"
   ]
  },
  {
   "cell_type": "markdown",
   "id": "d0ff9295-6c12-4e4e-bf74-3c277f050641",
   "metadata": {},
   "source": [
    "#### Saving Numpy arrays"
   ]
  },
  {
   "cell_type": "code",
   "execution_count": 16,
   "id": "a4add935-74e1-4e4c-9251-1fe473fdfd4f",
   "metadata": {},
   "outputs": [],
   "source": [
    "# saving scene - tiles of features\n",
    "np.save(r'C:\\SKOLA\\02_DOKTORAT\\ml_dpz\\lcz\\berlin_data\\tiled_10x10_stride10_offleft2_offtop2_fullres_features.npy',\n",
    "        features_array)"
   ]
  },
  {
   "cell_type": "code",
   "execution_count": 17,
   "id": "58debb67-2a81-4f1f-9deb-2fdc8928b40b",
   "metadata": {},
   "outputs": [],
   "source": [
    "# save GT data - tiles of features with label + label vector\n",
    "np.save(r'C:\\SKOLA\\02_DOKTORAT\\ml_dpz\\lcz\\berlin_data\\tiled_10x10_stride10_offleft2_offtop2_fullres_GT_features.npy',\n",
    "        filtered_input_features)\n",
    "\n",
    "np.save(r'C:\\SKOLA\\02_DOKTORAT\\ml_dpz\\lcz\\berlin_data\\tiled_10x10_stride10_offleft2_offtop2_fullres_GT_labels.npy',\n",
    "        filtered_labels_array)"
   ]
  },
  {
   "cell_type": "markdown",
   "id": "63d5d14e-2be4-45e0-9e16-c80c74f38092",
   "metadata": {},
   "source": [
    "#### Statistics of GT data"
   ]
  },
  {
   "cell_type": "code",
   "execution_count": 18,
   "id": "ea6d352b-2558-467b-bc6d-2fdae5cafc5e",
   "metadata": {},
   "outputs": [
    {
     "data": {
      "text/plain": [
       "(array([ 2,  4,  5,  6,  8,  9, 11, 12, 13, 14, 16, 17]),\n",
       " array([1534,  577, 2448, 4010, 1654,  761, 4960, 1028, 1050, 4424,  359,\n",
       "        1732], dtype=int64))"
      ]
     },
     "execution_count": 18,
     "metadata": {},
     "output_type": "execute_result"
    }
   ],
   "source": [
    "#  number of tiles per class\n",
    "np.unique(filtered_labels_array, return_counts=True)"
   ]
  }
 ],
 "metadata": {
  "kernelspec": {
   "display_name": "Python 3 (ipykernel)",
   "language": "python",
   "name": "python3"
  },
  "language_info": {
   "codemirror_mode": {
    "name": "ipython",
    "version": 3
   },
   "file_extension": ".py",
   "mimetype": "text/x-python",
   "name": "python",
   "nbconvert_exporter": "python",
   "pygments_lexer": "ipython3",
   "version": "3.9.9"
  }
 },
 "nbformat": 4,
 "nbformat_minor": 5
}
