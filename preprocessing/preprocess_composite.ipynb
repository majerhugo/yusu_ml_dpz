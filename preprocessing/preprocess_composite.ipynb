{
 "cells": [
  {
   "cell_type": "code",
   "execution_count": 3,
   "id": "bd87857f-383a-4bd4-9f1e-20382826a5cb",
   "metadata": {},
   "outputs": [],
   "source": [
    "import geopandas as gpd\n",
    "import rioxarray\n",
    "import xarray as xr\n",
    "import rasterio as rio\n",
    "import numpy as np\n",
    "from rasterio.merge import merge"
   ]
  },
  {
   "cell_type": "code",
   "execution_count": 4,
   "id": "157bbb2d-4ea3-44ca-b078-2059cf72e724",
   "metadata": {},
   "outputs": [
    {
     "name": "stdout",
     "output_type": "stream",
     "text": [
      "(6, 6664, 6434)\n",
      "(11, 6664, 6434)\n",
      "(10, 6664, 6434)\n"
     ]
    }
   ],
   "source": [
    "merge_files = [r'C:\\SKOLA\\02_DOKTORAT\\ml_dpz\\lcz\\berlin_data\\10m_bands_mosaic_clipped.tif',\n",
    "              r'C:\\SKOLA\\02_DOKTORAT\\ml_dpz\\lcz\\berlin_data\\20m_mosaic_resampled_to_10m_clipped.tif']\n",
    "\n",
    "output_file = r'C:\\SKOLA\\02_DOKTORAT\\ml_dpz\\lcz\\berlin_data\\composite_subset.tif'\n",
    "\n",
    "merged=[]\n",
    "for i in merge_files:\n",
    "    with rio.open(i) as src:\n",
    "        image = src.read()\n",
    "        print(image.shape)\n",
    "        merged.append(image)\n",
    "\n",
    "composite = np.vstack(merged)\n",
    "\n",
    "# select wanted bands\n",
    "composite = np.vstack([composite[:4,:,:], composite[6:12,:,:]]) \n",
    "print(composite.shape)\n",
    "\n",
    "out_meta = src.meta.copy()\n",
    "out_meta.update({\n",
    "    \"count\": composite.shape[0]\n",
    "})\n",
    "    \n",
    "# Save the merged TIFF\n",
    "with rio.open(output_file, 'w', **out_meta) as dest:\n",
    "    dest.write(composite)"
   ]
  },
  {
   "cell_type": "code",
   "execution_count": null,
   "id": "666b4b39-8557-4604-8af8-b1b165360648",
   "metadata": {},
   "outputs": [],
   "source": []
  }
 ],
 "metadata": {
  "kernelspec": {
   "display_name": "Python 3 (ipykernel)",
   "language": "python",
   "name": "python3"
  },
  "language_info": {
   "codemirror_mode": {
    "name": "ipython",
    "version": 3
   },
   "file_extension": ".py",
   "mimetype": "text/x-python",
   "name": "python",
   "nbconvert_exporter": "python",
   "pygments_lexer": "ipython3",
   "version": "3.9.9"
  }
 },
 "nbformat": 4,
 "nbformat_minor": 5
}
