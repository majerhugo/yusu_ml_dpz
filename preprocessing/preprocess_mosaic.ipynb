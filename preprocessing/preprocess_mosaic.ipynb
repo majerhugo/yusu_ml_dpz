{
 "cells": [
  {
   "cell_type": "code",
   "execution_count": 1,
   "id": "b61d3a71-549b-4b8d-94c4-e099b805942a",
   "metadata": {},
   "outputs": [],
   "source": [
    "import geopandas as gpd\n",
    "import rasterio as rio\n",
    "from rasterio.mask import mask\n",
    "from rasterio.merge import merge"
   ]
  },
  {
   "cell_type": "code",
   "execution_count": 2,
   "id": "70f5ac2b-3de3-4f3d-a2fa-73c9a8e9d0ff",
   "metadata": {},
   "outputs": [],
   "source": [
    "# all images wanted for the mosaic\n",
    "files_to_mosaic = ['S2B_MSIL2A_20170519T101019_N0500_R022_T33UVU_20231115T232025_20m_bands_sentinel_clipped.tif',\n",
    "             'S2B_MSIL2A_20170519T101019_N0500_R022_T33UVT_20231115T232025_20m_bands_sentinel_clipped.tif',\n",
    "             'S2B_MSIL2A_20170519T101019_N0500_R022_T32UQD_20231115T232025_20m_bands_sentinel_clipped.tif']\n",
    "\n",
    "# GT raster to clip the mosaic\n",
    "polygon_path = r'C:\\SKOLA\\02_DOKTORAT\\ml_dpz\\lcz\\berlin_data\\berlin_polygon.shp'\n",
    "\n",
    "##\n",
    "polygon = gpd.read_file(polygon_path)"
   ]
  },
  {
   "cell_type": "code",
   "execution_count": 3,
   "id": "380044a6-ddc3-4892-a341-6b18cc6b0aed",
   "metadata": {},
   "outputs": [
    {
     "name": "stdout",
     "output_type": "stream",
     "text": [
      "S2B_MSIL2A_20170519T101019_N0500_R022_T33UVU_20231115T232025_20m_bands_sentinel_clipped.tif EPSG:32633\n",
      "S2B_MSIL2A_20170519T101019_N0500_R022_T33UVT_20231115T232025_20m_bands_sentinel_clipped.tif EPSG:32633\n",
      "S2B_MSIL2A_20170519T101019_N0500_R022_T32UQD_20231115T232025_20m_bands_sentinel_clipped.tif EPSG:32632\n"
     ]
    }
   ],
   "source": [
    "for f in files_to_mosaic:\n",
    "    with rio.open(f) as src:\n",
    "        print(f, src.crs)"
   ]
  },
  {
   "cell_type": "code",
   "execution_count": 4,
   "id": "615727c3-76f6-45ac-8692-cea731177eba",
   "metadata": {},
   "outputs": [],
   "source": [
    "# nepotrebuju reproject\n",
    "files_to_mosaic = ['S2B_MSIL2A_20170519T101019_N0500_R022_T33UVU_20231115T232025_20m_bands_sentinel_clipped.tif',\n",
    "                   'S2B_MSIL2A_20170519T101019_N0500_R022_T33UVT_20231115T232025_20m_bands_sentinel_clipped.tif']\n",
    "\n",
    "\n",
    "src_files_to_mosaic = []"
   ]
  },
  {
   "cell_type": "markdown",
   "id": "fc740d94-009d-49ad-9848-c23ee2d51dac",
   "metadata": {},
   "source": [
    "#### Reproject"
   ]
  },
  {
   "cell_type": "code",
   "execution_count": 5,
   "id": "0d3b9989-f052-4db0-bc56-9f95ba7cb497",
   "metadata": {},
   "outputs": [],
   "source": [
    "from rasterio.warp import calculate_default_transform, reproject, Resampling\n",
    "from rasterio import MemoryFile\n",
    "\n",
    "# tento potrebuje reproject\n",
    "need_reproject = ['S2B_MSIL2A_20170519T101019_N0500_R022_T32UQD_20231115T232025_20m_bands_sentinel_clipped.tif']\n",
    "dst_crs = 'EPSG:32633'\n",
    "\n",
    "for file_for_reproject in need_reproject:\n",
    "    with rio.open(file_for_reproject) as src:\n",
    "        transform, width, height = calculate_default_transform(\n",
    "            src.crs, dst_crs, src.width, src.height, *src.bounds)\n",
    "        kwargs = src.meta.copy()\n",
    "        kwargs.update({\n",
    "            'crs': dst_crs,\n",
    "            'transform': transform,\n",
    "            'width': width,\n",
    "            'height': height\n",
    "        })\n",
    "    \n",
    "        with MemoryFile() as memfile:\n",
    "            with memfile.open(**kwargs) as dst:  # Open as DatasetWriter\n",
    "                for i in range(1, src.count + 1):\n",
    "                    reproject(\n",
    "                        source=rio.band(src, i),\n",
    "                        destination=rio.band(dst, i),\n",
    "                        src_transform=src.transform,\n",
    "                        src_crs=src.crs,\n",
    "                        dst_transform=transform,\n",
    "                        dst_crs=dst_crs,\n",
    "                        resampling=Resampling.nearest)\n",
    "    \n",
    "            reprojected_raster = memfile.open()\n",
    "            src_files_to_mosaic.append(reprojected_raster)"
   ]
  },
  {
   "cell_type": "markdown",
   "id": "103659f7-83d0-4312-8a93-e9e827387edb",
   "metadata": {},
   "source": [
    "#### Mosaic"
   ]
  },
  {
   "cell_type": "code",
   "execution_count": 6,
   "id": "0496fd91-ab61-4e3b-b1ca-bbcee1d61c1c",
   "metadata": {},
   "outputs": [
    {
     "data": {
      "text/plain": [
       "[<open DatasetReader name='/vsimem/3ca52500-ff47-4127-ad3a-9c0c892c3943/3ca52500-ff47-4127-ad3a-9c0c892c3943.tif' mode='r'>,\n",
       " <open DatasetReader name='S2B_MSIL2A_20170519T101019_N0500_R022_T33UVU_20231115T232025_20m_bands_sentinel_clipped.tif' mode='r'>,\n",
       " <open DatasetReader name='S2B_MSIL2A_20170519T101019_N0500_R022_T33UVT_20231115T232025_20m_bands_sentinel_clipped.tif' mode='r'>]"
      ]
     },
     "execution_count": 6,
     "metadata": {},
     "output_type": "execute_result"
    }
   ],
   "source": [
    "for f in files_to_mosaic:\n",
    "    src = rio.open(f)\n",
    "    pixel_size = src.res\n",
    "    pixel_size = int(round(pixel_size[0]))\n",
    "    \n",
    "    src_files_to_mosaic.append(src)\n",
    "\n",
    "src_files_to_mosaic"
   ]
  },
  {
   "cell_type": "code",
   "execution_count": 7,
   "id": "b65b662d-05b9-4c4a-984e-bd2c650a0782",
   "metadata": {},
   "outputs": [],
   "source": [
    "mosaic, out_trans = merge(src_files_to_mosaic)"
   ]
  },
  {
   "cell_type": "code",
   "execution_count": 8,
   "id": "cea4d7a0-31e9-4172-9c09-a324b7e38c65",
   "metadata": {},
   "outputs": [],
   "source": [
    "# export mosaic without clipping\n",
    "out_meta = src.meta.copy()\n",
    "out_meta.update({\"driver\": \"GTiff\",\n",
    "                 \"height\": mosaic.shape[1],\n",
    "                 \"width\": mosaic.shape[2],\n",
    "                 \"transform\": out_trans,\n",
    "                })\n",
    "\n",
    "with rio.open(f'{pixel_size}m_bands_mosaic.tif', \"w\", **out_meta) as dest:\n",
    "    dest.write(mosaic)"
   ]
  },
  {
   "cell_type": "code",
   "execution_count": 8,
   "id": "41de86ff-f369-421c-ad41-240352225d58",
   "metadata": {},
   "outputs": [],
   "source": [
    "# export mosaic with clipping the mosaic to the polygon extent\n",
    "out_meta = src.meta.copy()\n",
    "out_meta.update({\"driver\": \"GTiff\",\n",
    "                 \"height\": mosaic.shape[1],\n",
    "                 \"width\": mosaic.shape[2],\n",
    "                 \"transform\": out_trans,\n",
    "                })\n",
    "\n",
    "with MemoryFile() as memfile:\n",
    "    with memfile.open(**out_meta) as dst:\n",
    "        dst.write(mosaic)\n",
    "\n",
    "    with memfile.open() as mosaic:\n",
    "        clipped_image, clipped_transform = mask(mosaic, polygon['geometry'], crop=True)\n",
    "\n",
    "        clipped_meta = mosaic.meta.copy()\n",
    "        clipped_meta.update({\n",
    "                \"height\": clipped_image.shape[1],\n",
    "                \"width\": clipped_image.shape[2],\n",
    "                \"transform\": clipped_transform\n",
    "            })\n",
    "\n",
    "        pixel_size = mosaic.res\n",
    "        pixel_size = int(round(pixel_size[0]))\n",
    "        \n",
    "        with rio.open(f'{pixel_size}m_bands_mosaic.tif', \"w\", **clipped_meta) as dest:\n",
    "            dest.write(clipped_image)"
   ]
  },
  {
   "cell_type": "code",
   "execution_count": null,
   "id": "e30f5f20-ad47-46e1-a09a-f760a29e0863",
   "metadata": {},
   "outputs": [],
   "source": []
  }
 ],
 "metadata": {
  "kernelspec": {
   "display_name": "Python 3 (ipykernel)",
   "language": "python",
   "name": "python3"
  },
  "language_info": {
   "codemirror_mode": {
    "name": "ipython",
    "version": 3
   },
   "file_extension": ".py",
   "mimetype": "text/x-python",
   "name": "python",
   "nbconvert_exporter": "python",
   "pygments_lexer": "ipython3",
   "version": "3.9.9"
  }
 },
 "nbformat": 4,
 "nbformat_minor": 5
}
