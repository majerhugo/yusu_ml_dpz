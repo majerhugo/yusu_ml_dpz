{
 "cells": [
  {
   "cell_type": "code",
   "execution_count": 1,
   "id": "a2e7bfe3-17ce-4ad4-bea1-4e6c8a3aecdf",
   "metadata": {},
   "outputs": [],
   "source": [
    "import rioxarray as riox\n",
    "from rasterio.enums import Resampling\n",
    "import numpy as np\n",
    "import rasterio as rio"
   ]
  },
  {
   "cell_type": "code",
   "execution_count": 2,
   "id": "2b6e4cde-d51c-40b9-8660-32683fca436b",
   "metadata": {},
   "outputs": [],
   "source": [
    "file = 'composite_subset.tif'\n",
    "output_file = '100m_mean_min_max_grid.tif'\n",
    "\n",
    "raster = riox.open_rasterio(file)\n",
    "\n",
    "# 100 m grid\n",
    "grid_res = 100\n",
    "\n",
    "downscale_factor = raster.rio.resolution()[0]/grid_res\n",
    "\n",
    "# caluculate new height and width using downscale_factor\n",
    "new_width = raster.rio.width * downscale_factor\n",
    "new_height = raster.rio.height * downscale_factor\n",
    " \n",
    "# resample raster to grid - 3 methods = mean, min, max\n",
    "down_sampled_mean = raster.rio.reproject(raster.rio.crs, shape=(int(new_height), int(new_width)), resampling=Resampling.average)\n",
    "down_sampled_min = raster.rio.reproject(raster.rio.crs, shape=(int(new_height), int(new_width)), resampling=Resampling.min)\n",
    "down_sampled_max = raster.rio.reproject(raster.rio.crs, shape=(int(new_height), int(new_width)), resampling=Resampling.max)"
   ]
  },
  {
   "cell_type": "code",
   "execution_count": 3,
   "id": "b1390e90-487c-41bd-8e11-47db61641848",
   "metadata": {},
   "outputs": [
    {
     "name": "stdout",
     "output_type": "stream",
     "text": [
      "(30, 666, 643)\n"
     ]
    }
   ],
   "source": [
    "mean_min_max_grid = np.vstack([down_sampled_mean, down_sampled_min, down_sampled_max])\n",
    "print(mean_min_max_grid.shape)"
   ]
  },
  {
   "cell_type": "code",
   "execution_count": 6,
   "id": "9bb1fceb-4f5b-4903-8c84-46f14dd18692",
   "metadata": {},
   "outputs": [],
   "source": [
    "with rio.open(file) as src:\n",
    "    meta = src.meta\n",
    "    transform = src.transform\n",
    "\n",
    "transform = src.transform * src.transform.scale(\n",
    "        (src.width / down_sampled_mean.shape[-1]),\n",
    "        (src.height / down_sampled_mean.shape[-2])\n",
    ")\n",
    "\n",
    "out_meta = meta.copy()\n",
    "out_meta.update({\n",
    "    \"count\": mean_min_max_grid.shape[0],\n",
    "    'height': mean_min_max_grid.shape[1],\n",
    "    'width': mean_min_max_grid.shape[2],\n",
    "    'transform': transform\n",
    "})\n",
    "\n",
    "# Save the merged TIFF\n",
    "with rio.open(output_file, 'w', **out_meta) as dest:\n",
    "    dest.write(mean_min_max_grid)"
   ]
  },
  {
   "cell_type": "code",
   "execution_count": null,
   "id": "5bad53bf-5579-406b-a433-254afc5332a7",
   "metadata": {},
   "outputs": [],
   "source": []
  }
 ],
 "metadata": {
  "kernelspec": {
   "display_name": "Python 3 (ipykernel)",
   "language": "python",
   "name": "python3"
  },
  "language_info": {
   "codemirror_mode": {
    "name": "ipython",
    "version": 3
   },
   "file_extension": ".py",
   "mimetype": "text/x-python",
   "name": "python",
   "nbconvert_exporter": "python",
   "pygments_lexer": "ipython3",
   "version": "3.9.9"
  }
 },
 "nbformat": 4,
 "nbformat_minor": 5
}
