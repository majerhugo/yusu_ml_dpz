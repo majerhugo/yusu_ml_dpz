{
 "cells": [
  {
   "cell_type": "code",
   "execution_count": 1,
   "id": "a4e37735-7902-4e64-8d60-49bf90bdfa99",
   "metadata": {},
   "outputs": [],
   "source": [
    "import geopandas as gpd\n",
    "import rioxarray\n",
    "import xarray as xr\n",
    "import rasterio as rio"
   ]
  },
  {
   "cell_type": "code",
   "execution_count": 2,
   "id": "2dd87450-1cd9-4853-85a2-b7a92a5a91c6",
   "metadata": {},
   "outputs": [],
   "source": [
    "p1 = r'C:\\SKOLA\\02_DOKTORAT\\ml_dpz\\lcz\\test\\composite_subset.tif'\n",
    "p2 = r'C:\\SKOLA\\02_DOKTORAT\\ml_dpz\\lcz\\test\\berlin_lcz_GT.tif'"
   ]
  },
  {
   "cell_type": "code",
   "execution_count": 3,
   "id": "480868e8-c9d4-418c-8813-64953f327db1",
   "metadata": {},
   "outputs": [],
   "source": [
    "mosaic_10m = rioxarray.open_rasterio(p1, masked=True)\n",
    "mosaic_20m = rioxarray.open_rasterio(p2, masked=True)\n",
    "\n",
    "mosaic_10m = mosaic_10m.drop_vars(\"band\").squeeze()\n",
    "mosaic_20m = mosaic_20m.drop_vars(\"band\").squeeze()\n",
    "\n",
    "mosaic_10m = mosaic_10m.astype('int64')\n",
    "mosaic_20m = mosaic_20m.astype('int64')"
   ]
  },
  {
   "cell_type": "code",
   "execution_count": 4,
   "id": "ad6d09f9-0cc6-40c9-8a3a-76fdee25be6f",
   "metadata": {},
   "outputs": [],
   "source": [
    "def print_raster(raster):\n",
    "    print(\n",
    "        f\"shape: {raster.rio.shape}\\n\"\n",
    "        f\"resolution: {raster.rio.resolution()}\\n\"\n",
    "        f\"bounds: {raster.rio.bounds()}\\n\"\n",
    "        f\"sum: {raster.sum().item()}\\n\"\n",
    "        f\"CRS: {raster.rio.crs}\\n\"\n",
    "    )"
   ]
  },
  {
   "cell_type": "code",
   "execution_count": 5,
   "id": "a9ad8fd6-4e9b-4044-a4fd-2edbdcb1535e",
   "metadata": {},
   "outputs": [
    {
     "name": "stdout",
     "output_type": "stream",
     "text": [
      "Original Raster:\n",
      "----------------\n",
      "\n",
      "shape: (666, 643)\n",
      "resolution: (100.0, -100.0)\n",
      "bounds: (360280.0, 5789320.0, 424580.0, 5855920.0)\n",
      "sum: 239427\n",
      "CRS: EPSG:32633\n",
      "\n",
      "Raster to Match:\n",
      "----------------\n",
      "\n",
      "shape: (6664, 6434)\n",
      "resolution: (9.994790578207187, -9.994790578207187)\n",
      "bounds: (360276.48325961066, 5789317.755757303, 424582.96583979577, 5855923.040170476)\n",
      "sum: 1182545352520\n",
      "CRS: EPSG:32633\n",
      "\n"
     ]
    }
   ],
   "source": [
    "print(\"Original Raster:\\n----------------\\n\")\n",
    "print_raster(mosaic_20m)\n",
    "print(\"Raster to Match:\\n----------------\\n\")\n",
    "print_raster(mosaic_10m)"
   ]
  },
  {
   "cell_type": "code",
   "execution_count": 6,
   "id": "fd18fbc1-6ae8-4812-bd42-f18d59464913",
   "metadata": {},
   "outputs": [
    {
     "name": "stdout",
     "output_type": "stream",
     "text": [
      "Reprojected Raster:\n",
      "-------------------\n",
      "\n",
      "shape: (6664, 6434)\n",
      "resolution: (9.994790578207189, -9.994790578207205)\n",
      "bounds: (360276.48325961066, 5789317.755757303, 424582.96583979577, 5855923.040170476)\n",
      "sum: 23974676\n",
      "CRS: EPSG:32633\n",
      "\n",
      "Raster to Match:\n",
      "----------------\n",
      "\n",
      "shape: (6664, 6434)\n",
      "resolution: (9.994790578207187, -9.994790578207187)\n",
      "bounds: (360276.48325961066, 5789317.755757303, 424582.96583979577, 5855923.040170476)\n",
      "sum: 1182545352520\n",
      "CRS: EPSG:32633\n",
      "\n"
     ]
    }
   ],
   "source": [
    "mosaic_20m_match_10m = mosaic_20m.rio.reproject_match(mosaic_10m)\n",
    "print(\"Reprojected Raster:\\n-------------------\\n\")\n",
    "print_raster(mosaic_20m_match_10m)\n",
    "print(\"Raster to Match:\\n----------------\\n\")\n",
    "print_raster(mosaic_10m)"
   ]
  },
  {
   "cell_type": "code",
   "execution_count": 7,
   "id": "f117d6ca-2063-4465-ac6b-d0c89c2ae299",
   "metadata": {},
   "outputs": [],
   "source": [
    "#mosaic_20m_match_10m\n",
    "#= mosaic_20m_match_10m.astype('int64')"
   ]
  },
  {
   "cell_type": "code",
   "execution_count": 8,
   "id": "f62ce2c6-c8e0-4c0c-bdd2-af635d602255",
   "metadata": {},
   "outputs": [],
   "source": [
    "mosaic_20m_match_10m.rio.to_raster(r\"C:\\SKOLA\\02_DOKTORAT\\ml_dpz\\lcz\\test\\berlin_lcz_GT_matched.tif\", driver=\"GTiff\", compress=\"LZW\")"
   ]
  },
  {
   "cell_type": "code",
   "execution_count": null,
   "id": "2f55c138-fcec-4b28-b17e-d6d59c7a8ffd",
   "metadata": {},
   "outputs": [],
   "source": []
  }
 ],
 "metadata": {
  "kernelspec": {
   "display_name": "Python 3 (ipykernel)",
   "language": "python",
   "name": "python3"
  },
  "language_info": {
   "codemirror_mode": {
    "name": "ipython",
    "version": 3
   },
   "file_extension": ".py",
   "mimetype": "text/x-python",
   "name": "python",
   "nbconvert_exporter": "python",
   "pygments_lexer": "ipython3",
   "version": "3.9.9"
  }
 },
 "nbformat": 4,
 "nbformat_minor": 5
}
