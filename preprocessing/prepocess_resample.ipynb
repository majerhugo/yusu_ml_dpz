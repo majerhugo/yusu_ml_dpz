{
 "cells": [
  {
   "cell_type": "code",
   "execution_count": 1,
   "id": "74a1d56e-4caa-4031-a1eb-680d2e7cc120",
   "metadata": {},
   "outputs": [],
   "source": [
    "import geopandas as gpd\n",
    "import rasterio as rio\n",
    "from rasterio.enums import Resampling"
   ]
  },
  {
   "cell_type": "markdown",
   "id": "8204a511-92b3-4df1-807c-d1d4597e3ace",
   "metadata": {},
   "source": [
    "#### Resample"
   ]
  },
  {
   "cell_type": "code",
   "execution_count": 2,
   "id": "5aed79ec-9d66-4a13-b6f4-22b1ad3b11c4",
   "metadata": {},
   "outputs": [],
   "source": [
    "data_path = r'C:\\SKOLA\\02_DOKTORAT\\ml_dpz\\lcz\\berlin_data\\20m_bands_mosaic.tif'\n",
    "mosaic_10m = r'C:\\SKOLA\\02_DOKTORAT\\ml_dpz\\lcz\\berlin_data\\10m_bands_mosaic.tif'"
   ]
  },
  {
   "cell_type": "code",
   "execution_count": 3,
   "id": "14c5815a-466d-4eb5-aaa4-aa7e6b8fbdec",
   "metadata": {},
   "outputs": [
    {
     "name": "stdout",
     "output_type": "stream",
     "text": [
      "(19.983280866784742, 19.983280866784742)\n",
      "(11, 3334, 3218)\n",
      "(9.991639925114471, 9.991639925114471)\n",
      "(6, 6667, 6435)\n"
     ]
    }
   ],
   "source": [
    "with rio.open(data_path) as src:\n",
    "    resampling=src.res\n",
    "    print(resampling)\n",
    "    img=src.read()\n",
    "    print(img.shape)\n",
    "    \n",
    "with rio.open(mosaic_10m) as mos_10m:\n",
    "    wanted=mos_10m.res\n",
    "    print(wanted)\n",
    "    img=mos_10m.read()\n",
    "    print(img.shape)"
   ]
  },
  {
   "cell_type": "code",
   "execution_count": 4,
   "id": "a5985759-386f-46e8-bbad-06f81eef786f",
   "metadata": {},
   "outputs": [
    {
     "name": "stdout",
     "output_type": "stream",
     "text": [
      "Shape before resample: (3334, 3218)\n",
      "Shape after resample: (6668, 6436)\n",
      "Transform before resample:\n",
      " | 19.98, 0.00, 360268.74|\n",
      "| 0.00,-19.98, 5855935.51|\n",
      "| 0.00, 0.00, 1.00| \n",
      "\n",
      "Transform after resample:\n",
      " | 9.99, 0.00, 360268.74|\n",
      "| 0.00,-9.99, 5855935.51|\n",
      "| 0.00, 0.00, 1.00|\n"
     ]
    }
   ],
   "source": [
    "#upscale_factor = 2\n",
    "upscale_factor_height=resampling[0]/wanted[0]\n",
    "upscale_factor_width=resampling[1]/wanted[1]\n",
    "\n",
    "with rio.open(data_path) as src:\n",
    "    meta = src.meta\n",
    "    \n",
    "    # resample data to target shape\n",
    "    resampled = src.read(\n",
    "        out_shape=(\n",
    "            src.count,\n",
    "            int(src.height * upscale_factor_height),\n",
    "            int(src.width * upscale_factor_width)\n",
    "        ),\n",
    "        resampling=Resampling.bilinear\n",
    "    )\n",
    "\n",
    "    print('Shape before resample:', src.shape)\n",
    "    print('Shape after resample:', resampled.shape[1:])\n",
    "\n",
    "    # scale image transform\n",
    "    transform = src.transform * src.transform.scale(\n",
    "        (src.width / resampled.shape[-1]),\n",
    "        (src.height / resampled.shape[-2])\n",
    "    )\n",
    "\n",
    "    print('Transform before resample:\\n', src.transform, '\\n')\n",
    "    print('Transform after resample:\\n', transform)\n"
   ]
  },
  {
   "cell_type": "code",
   "execution_count": 5,
   "id": "56007d00-ad17-4b30-b28c-cefe60845431",
   "metadata": {},
   "outputs": [],
   "source": [
    "out_meta_resampled = meta.copy()\n",
    "out_meta_resampled.update({\n",
    "    'height': resampled.shape[1],\n",
    "    'width': resampled.shape[2],\n",
    "    'transform': transform\n",
    "})"
   ]
  },
  {
   "cell_type": "code",
   "execution_count": 6,
   "id": "52a8120e-d453-47a0-951d-9a7970cefbae",
   "metadata": {},
   "outputs": [],
   "source": [
    "with rio.open('20m_mosaic_resampled_to_10m.tif', 'w', **out_meta_resampled) as dst:\n",
    "    dst.write(resampled)"
   ]
  },
  {
   "cell_type": "code",
   "execution_count": 8,
   "id": "086bbb1c-1537-44b9-a98b-c34665810716",
   "metadata": {},
   "outputs": [
    {
     "name": "stdout",
     "output_type": "stream",
     "text": [
      "(9.991640433392371, 9.991640433392371)\n"
     ]
    }
   ],
   "source": [
    "with rio.open('20m_mosaic_resampled_to_10m.tif') as resam:\n",
    "    print(resam.res)"
   ]
  },
  {
   "cell_type": "code",
   "execution_count": null,
   "id": "5494bf23-f493-4965-92e0-3bb861425562",
   "metadata": {},
   "outputs": [],
   "source": [
    "9.991639925114471, 9.991639925114471"
   ]
  }
 ],
 "metadata": {
  "kernelspec": {
   "display_name": "Python 3 (ipykernel)",
   "language": "python",
   "name": "python3"
  },
  "language_info": {
   "codemirror_mode": {
    "name": "ipython",
    "version": 3
   },
   "file_extension": ".py",
   "mimetype": "text/x-python",
   "name": "python",
   "nbconvert_exporter": "python",
   "pygments_lexer": "ipython3",
   "version": "3.9.9"
  }
 },
 "nbformat": 4,
 "nbformat_minor": 5
}
