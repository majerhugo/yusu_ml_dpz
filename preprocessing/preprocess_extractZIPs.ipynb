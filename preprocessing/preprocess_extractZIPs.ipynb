{
 "cells": [
  {
   "cell_type": "code",
   "execution_count": 1,
   "id": "e29ce81d-369b-4871-902b-65c5f5c59697",
   "metadata": {},
   "outputs": [],
   "source": [
    "import geopandas as gpd\n",
    "import rasterio as rio\n",
    "from rasterio.mask import mask\n",
    "from rasterio.merge import merge"
   ]
  },
  {
   "cell_type": "markdown",
   "id": "57ae5190-dc86-48c5-9713-eafbe436d710",
   "metadata": {},
   "source": [
    "Sentinel Bands:\n",
    "B1: red,\n",
    "B2: green,\n",
    "B3: blue,\n",
    "B4: NIR,\n",
    "B5: AOT\n",
    "B6: WVP\n",
    "\n",
    "B7: Red Edge 1\n",
    "B8: Red Edge 2\n",
    "B9: Red Edge 3\n",
    "B10: NIR2 (B8A)\n",
    "B11: SWIR1\n",
    "B12: SWIR2\n",
    "B13: AOT\n",
    "B14: CLD\n",
    "B15: SCL\n",
    "B16: SNW\n",
    "B17: WVP"
   ]
  },
  {
   "cell_type": "code",
   "execution_count": 2,
   "id": "04d39b3f-033e-49d1-8b8e-d1ec4d231b18",
   "metadata": {},
   "outputs": [],
   "source": [
    "# extract all tifs from ZIP Sentinels\n",
    "data = [r'E:\\ml_dpz\\S2B_MSIL2A_20170519T101019_N0500_R022_T32UQD_20231115T232025.SAFE.zip',\n",
    "        r'E:\\ml_dpz\\S2B_MSIL2A_20170519T101019_N0500_R022_T33UUU_20231115T232025.SAFE.zip',\n",
    "        r'E:\\ml_dpz\\S2B_MSIL2A_20170519T101019_N0500_R022_T33UVT_20231115T232025.SAFE.zip',\n",
    "        r'E:\\ml_dpz\\S2B_MSIL2A_20170519T101019_N0500_R022_T33UVU_20231115T232025.SAFE.zip']\n",
    "\n",
    "subdatas=[0,1]"
   ]
  },
  {
   "cell_type": "code",
   "execution_count": 3,
   "id": "6d241878-ece9-46be-9ab1-6ed52dd93c25",
   "metadata": {},
   "outputs": [
    {
     "name": "stderr",
     "output_type": "stream",
     "text": [
      "C:\\Users\\Lenovo\\AppData\\Roaming\\Python\\Python39\\site-packages\\rasterio\\__init__.py:333: NotGeoreferencedWarning: Dataset has no geotransform, gcps, or rpcs. The identity matrix will be returned.\n",
      "  dataset = DatasetReader(path, driver=driver, sharing=sharing, **kwargs)\n"
     ]
    },
    {
     "name": "stdout",
     "output_type": "stream",
     "text": [
      "(6, 10980, 10980)\n",
      "(10980, 10980)\n"
     ]
    },
    {
     "ename": "RasterioIOError",
     "evalue": "Attempt to create new tiff file 'E:/ml_dpz/E:/ml_dpz/S2B_MSIL2A_20170519T101019_N0500_R022_T32UQD_20231115T232025_10m_bands.tif' failed: No error",
     "output_type": "error",
     "traceback": [
      "\u001b[1;31m---------------------------------------------------------------------------\u001b[0m",
      "\u001b[1;31mCPLE_OpenFailedError\u001b[0m                      Traceback (most recent call last)",
      "\u001b[1;32mrasterio\\\\_io.pyx\u001b[0m in \u001b[0;36mrasterio._io.DatasetWriterBase.__init__\u001b[1;34m()\u001b[0m\n",
      "\u001b[1;32mrasterio\\\\_err.pyx\u001b[0m in \u001b[0;36mrasterio._err.exc_wrap_pointer\u001b[1;34m()\u001b[0m\n",
      "\u001b[1;31mCPLE_OpenFailedError\u001b[0m: Attempt to create new tiff file 'E:/ml_dpz/E:/ml_dpz/S2B_MSIL2A_20170519T101019_N0500_R022_T32UQD_20231115T232025_10m_bands.tif' failed: No error",
      "\nDuring handling of the above exception, another exception occurred:\n",
      "\u001b[1;31mRasterioIOError\u001b[0m                           Traceback (most recent call last)",
      "\u001b[1;32m~\\AppData\\Local\\Temp/ipykernel_11044/4128451705.py\u001b[0m in \u001b[0;36m<module>\u001b[1;34m\u001b[0m\n\u001b[0;32m     24\u001b[0m                 })\n\u001b[0;32m     25\u001b[0m \u001b[1;33m\u001b[0m\u001b[0m\n\u001b[1;32m---> 26\u001b[1;33m                 \u001b[1;32mwith\u001b[0m \u001b[0mrio\u001b[0m\u001b[1;33m.\u001b[0m\u001b[0mopen\u001b[0m\u001b[1;33m(\u001b[0m\u001b[1;34mf'E:\\\\ml_dpz\\\\{image_name}_{pixel_size}m_bands.tif'\u001b[0m\u001b[1;33m,\u001b[0m \u001b[1;34m'w'\u001b[0m\u001b[1;33m,\u001b[0m \u001b[1;33m**\u001b[0m\u001b[0mout_meta\u001b[0m\u001b[1;33m)\u001b[0m \u001b[1;32mas\u001b[0m \u001b[0mdst\u001b[0m\u001b[1;33m:\u001b[0m\u001b[1;33m\u001b[0m\u001b[1;33m\u001b[0m\u001b[0m\n\u001b[0m\u001b[0;32m     27\u001b[0m                     \u001b[0mdst\u001b[0m\u001b[1;33m.\u001b[0m\u001b[0mwrite\u001b[0m\u001b[1;33m(\u001b[0m\u001b[0msubdata_read\u001b[0m\u001b[1;33m)\u001b[0m\u001b[1;33m\u001b[0m\u001b[1;33m\u001b[0m\u001b[0m\n\u001b[0;32m     28\u001b[0m                     \u001b[0mprint\u001b[0m\u001b[1;33m(\u001b[0m\u001b[1;34mf'Saved: {image_name}_{pixel_size}m_bands.tif'\u001b[0m\u001b[1;33m)\u001b[0m\u001b[1;33m\u001b[0m\u001b[1;33m\u001b[0m\u001b[0m\n",
      "\u001b[1;32m~\\AppData\\Roaming\\Python\\Python39\\site-packages\\rasterio\\env.py\u001b[0m in \u001b[0;36mwrapper\u001b[1;34m(*args, **kwds)\u001b[0m\n\u001b[0;32m    449\u001b[0m \u001b[1;33m\u001b[0m\u001b[0m\n\u001b[0;32m    450\u001b[0m         \u001b[1;32mwith\u001b[0m \u001b[0menv_ctor\u001b[0m\u001b[1;33m(\u001b[0m\u001b[0msession\u001b[0m\u001b[1;33m=\u001b[0m\u001b[0msession\u001b[0m\u001b[1;33m)\u001b[0m\u001b[1;33m:\u001b[0m\u001b[1;33m\u001b[0m\u001b[1;33m\u001b[0m\u001b[0m\n\u001b[1;32m--> 451\u001b[1;33m             \u001b[1;32mreturn\u001b[0m \u001b[0mf\u001b[0m\u001b[1;33m(\u001b[0m\u001b[1;33m*\u001b[0m\u001b[0margs\u001b[0m\u001b[1;33m,\u001b[0m \u001b[1;33m**\u001b[0m\u001b[0mkwds\u001b[0m\u001b[1;33m)\u001b[0m\u001b[1;33m\u001b[0m\u001b[1;33m\u001b[0m\u001b[0m\n\u001b[0m\u001b[0;32m    452\u001b[0m \u001b[1;33m\u001b[0m\u001b[0m\n\u001b[0;32m    453\u001b[0m     \u001b[1;32mreturn\u001b[0m \u001b[0mwrapper\u001b[0m\u001b[1;33m\u001b[0m\u001b[1;33m\u001b[0m\u001b[0m\n",
      "\u001b[1;32m~\\AppData\\Roaming\\Python\\Python39\\site-packages\\rasterio\\__init__.py\u001b[0m in \u001b[0;36mopen\u001b[1;34m(fp, mode, driver, width, height, count, crs, transform, dtype, nodata, sharing, **kwargs)\u001b[0m\n\u001b[0;32m    341\u001b[0m             \u001b[0mwriter\u001b[0m \u001b[1;33m=\u001b[0m \u001b[0mget_writer_for_driver\u001b[0m\u001b[1;33m(\u001b[0m\u001b[0mdriver\u001b[0m\u001b[1;33m)\u001b[0m\u001b[1;33m\u001b[0m\u001b[1;33m\u001b[0m\u001b[0m\n\u001b[0;32m    342\u001b[0m             \u001b[1;32mif\u001b[0m \u001b[0mwriter\u001b[0m \u001b[1;32mis\u001b[0m \u001b[1;32mnot\u001b[0m \u001b[1;32mNone\u001b[0m\u001b[1;33m:\u001b[0m\u001b[1;33m\u001b[0m\u001b[1;33m\u001b[0m\u001b[0m\n\u001b[1;32m--> 343\u001b[1;33m                 dataset = writer(\n\u001b[0m\u001b[0;32m    344\u001b[0m                     \u001b[0mpath\u001b[0m\u001b[1;33m,\u001b[0m\u001b[1;33m\u001b[0m\u001b[1;33m\u001b[0m\u001b[0m\n\u001b[0;32m    345\u001b[0m                     \u001b[0mmode\u001b[0m\u001b[1;33m,\u001b[0m\u001b[1;33m\u001b[0m\u001b[1;33m\u001b[0m\u001b[0m\n",
      "\u001b[1;32mrasterio\\\\_io.pyx\u001b[0m in \u001b[0;36mrasterio._io.DatasetWriterBase.__init__\u001b[1;34m()\u001b[0m\n",
      "\u001b[1;31mRasterioIOError\u001b[0m: Attempt to create new tiff file 'E:/ml_dpz/E:/ml_dpz/S2B_MSIL2A_20170519T101019_N0500_R022_T32UQD_20231115T232025_10m_bands.tif' failed: No error"
     ]
    }
   ],
   "source": [
    "for d in data:\n",
    "    with rio.open(d) as ds:\n",
    "        sd = ds.subdatasets\n",
    "        #meta = ds.meta\n",
    "        \n",
    "        for i in subdatas:\n",
    "            with rio.open(sd[i]) as subdata:\n",
    "\n",
    "                subdata_read = subdata.read()\n",
    "                print(subdata_read.shape)\n",
    "                \n",
    "                pixel_size = subdata.res\n",
    "                pixel_size = int(round(pixel_size[0]))\n",
    "                #print(pixel_size)\n",
    "    \n",
    "                image_name = d.split('.')[-3]\n",
    "                #print(image_name)\n",
    "    \n",
    "                print(subdata.shape)\n",
    "                \n",
    "                out_meta = subdata.meta.copy()\n",
    "                out_meta.update({\n",
    "                    'driver':'GTiff'\n",
    "                })\n",
    "                \n",
    "                with rio.open(f'E:\\\\ml_dpz\\\\{image_name}_{pixel_size}m_bands.tif', 'w', **out_meta) as dst:\n",
    "                    dst.write(subdata_read)\n",
    "                    print(f'Saved: {image_name}_{pixel_size}m_bands.tif')"
   ]
  }
 ],
 "metadata": {
  "kernelspec": {
   "display_name": "Python 3 (ipykernel)",
   "language": "python",
   "name": "python3"
  },
  "language_info": {
   "codemirror_mode": {
    "name": "ipython",
    "version": 3
   },
   "file_extension": ".py",
   "mimetype": "text/x-python",
   "name": "python",
   "nbconvert_exporter": "python",
   "pygments_lexer": "ipython3",
   "version": "3.9.9"
  }
 },
 "nbformat": 4,
 "nbformat_minor": 5
}
